{
 "cells": [
  {
   "cell_type": "code",
   "execution_count": 129,
   "metadata": {
    "collapsed": true
   },
   "outputs": [],
   "source": [
    "import pandas as pd\n",
    "import os\n",
    "import csv\n",
    "import time\n",
    "import dateutil.parser as dparser\n",
    "import datetime\n",
    "import numpy as np\n",
    "import json"
   ]
  },
  {
   "cell_type": "code",
   "execution_count": 130,
   "metadata": {
    "collapsed": true
   },
   "outputs": [],
   "source": [
    "#columnA = CampaignId, columnB = Inventory, columnC = Objective\n",
    "\n",
    "df = pd.DataFrame({'columnA':[1111,1111,2222,3333,4444,4444,5555,6666],\n",
    "                   'columnB':['programmatic','programmatic','social','programmatic','social','social','programmatic','social'],\n",
    "                   'columnC':['awareness','consideration','awareness','awareness','awareness','sales','consideration','awareness'],\n",
    "                   'NUM1':[1,3,5,7,1,0,4,5],\n",
    "                   'NUM2':[5,3,6,9,2,4,1,1],\n",
    "                   'W':list('aaabbbbb')})"
   ]
  },
  {
   "cell_type": "code",
   "execution_count": 131,
   "metadata": {},
   "outputs": [
    {
     "data": {
      "text/plain": [
       "'\\nd = {\\'columnB\\':\\'unique\\', \\'columnC\\':\\'unique\\' }\\ndf2 = df.groupby(\\'columnA\\').agg(d)\\n\\n\\n#Convert list to string for each cell of the inventory field\\nmylist = [\"columnB\",\"columnC\"]\\nfor x in mylist:\\n    columnName = x\\n    #print(\"df2.\"+columnName+\".apply(\\', \\'.join)\")\\n    df2[columnName] = df2[columnName].apply(\\', \\'.join)\\n'"
      ]
     },
     "execution_count": 131,
     "metadata": {},
     "output_type": "execute_result"
    }
   ],
   "source": [
    "#Aggregate data for each columnA value (in one row) and replace values of columnC values\n",
    "#c = {'columnB':lambda x: x.tolist(), 'columnC':lambda x: x[x == 'one'].tolist()}\n",
    "#df2 = df.groupby('columnA').agg(c)\n",
    "\n"
   ]
  },
  {
   "cell_type": "code",
   "execution_count": 132,
   "metadata": {},
   "outputs": [
    {
     "name": "stdout",
     "output_type": "stream",
     "text": [
      "              columnB                   columnC\n",
      "columnA                                        \n",
      "1111     programmatic  awareness, consideration\n",
      "2222           social                 awareness\n",
      "3333     programmatic                 awareness\n",
      "4444           social          awareness, sales\n",
      "5555     programmatic             consideration\n",
      "6666           social                 awareness\n"
     ]
    }
   ],
   "source": [
    "#d = {'columnB':lambda x: list(set(x.tolist())), 'columnC':lambda x: x.tolist() }\n",
    "#df1 = df.groupby('columnA').agg(d)\n",
    "#print(df1)\n",
    "\n",
    "d = {'columnB':'unique', 'columnC':'unique' }\n",
    "df2 = df.groupby('columnA').agg(d)\n",
    "\n",
    "\n",
    "#Convert list to string for each cell of the inventory field\n",
    "mylist = [\"columnB\",\"columnC\"]\n",
    "for x in mylist:\n",
    "    columnName = x\n",
    "    #print(\"df2.\"+columnName+\".apply(', '.join)\")\n",
    "    df2[columnName] = df2[columnName].apply(', '.join)\n",
    "    \n",
    "    \n",
    "    \n",
    "#df2['columnB'] = df2.columnB.apply(', '.join)\n",
    "print(df2)"
   ]
  },
  {
   "cell_type": "code",
   "execution_count": null,
   "metadata": {
    "collapsed": true
   },
   "outputs": [],
   "source": []
  },
  {
   "cell_type": "code",
   "execution_count": null,
   "metadata": {},
   "outputs": [],
   "source": []
  },
  {
   "cell_type": "code",
   "execution_count": null,
   "metadata": {
    "scrolled": true
   },
   "outputs": [],
   "source": []
  },
  {
   "cell_type": "code",
   "execution_count": null,
   "metadata": {
    "collapsed": true
   },
   "outputs": [],
   "source": []
  },
  {
   "cell_type": "code",
   "execution_count": null,
   "metadata": {
    "collapsed": true
   },
   "outputs": [],
   "source": []
  },
  {
   "cell_type": "code",
   "execution_count": null,
   "metadata": {
    "collapsed": true
   },
   "outputs": [],
   "source": []
  },
  {
   "cell_type": "code",
   "execution_count": null,
   "metadata": {
    "collapsed": true
   },
   "outputs": [],
   "source": []
  },
  {
   "cell_type": "code",
   "execution_count": null,
   "metadata": {
    "collapsed": true
   },
   "outputs": [],
   "source": []
  },
  {
   "cell_type": "code",
   "execution_count": null,
   "metadata": {
    "collapsed": true
   },
   "outputs": [],
   "source": []
  }
 ],
 "metadata": {
  "kernelspec": {
   "display_name": "Python 3",
   "language": "python",
   "name": "python3"
  },
  "language_info": {
   "codemirror_mode": {
    "name": "ipython",
    "version": 3
   },
   "file_extension": ".py",
   "mimetype": "text/x-python",
   "name": "python",
   "nbconvert_exporter": "python",
   "pygments_lexer": "ipython3",
   "version": "3.6.3"
  }
 },
 "nbformat": 4,
 "nbformat_minor": 2
}
