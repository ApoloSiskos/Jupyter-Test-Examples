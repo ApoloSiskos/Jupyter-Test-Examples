{
 "cells": [
  {
   "cell_type": "code",
   "execution_count": 39,
   "metadata": {},
   "outputs": [
    {
     "name": "stdout",
     "output_type": "stream",
     "text": [
      "true\n"
     ]
    }
   ],
   "source": [
    "    import json\n",
    "\n",
    "    jsonData = \"\"\"{\"from\": {\"id\": \"8\", \"name\": \"Mary Pinter\"}, \"message\": \"How ARE you?\", \"comments\": {\"count\": 0}, \"to\": {\"data\": [{\"id\": \"1543\", \"name\": \"Honey Pinter\"}]}, \"type\": \"status\", \"id\": \"id_7\"}\"\"\"\n",
    "\n",
    "    \n",
    "    data = json.loads(jsonData)\n",
    "    if 'NEW2' not in data['from']:\n",
    "        data['from']['CAMPAIGN_KEY'] = dict()\n",
    "        data['from']['CAMPAIGN_KEY']['vals'] = list()\n",
    "        #data['from']['NEW2']['value'] = 'NESTED'\n",
    "    if 'name' in data['from']:\n",
    "        print(\"true\")\n",
    "\n",
    " "
   ]
  },
  {
   "cell_type": "code",
   "execution_count": 40,
   "metadata": {},
   "outputs": [
    {
     "name": "stdout",
     "output_type": "stream",
     "text": [
      "{'from': {'id': '8', 'name': 'Mary Pinter', 'CAMPAIGN_KEY': {'vals': ['11111,22222']}}, 'message': 'How ARE you?', 'comments': {'count': 0}, 'to': {'data': [{'id': '1543', 'name': 'Honey Pinter'}]}, 'type': 'status', 'id': 'id_7'}\n"
     ]
    }
   ],
   "source": [
    "#print(data)\n",
    "data['from']['CAMPAIGN_KEY']['vals'].append('11111,22222')\n",
    "print(data)"
   ]
  },
  {
   "cell_type": "code",
   "execution_count": null,
   "metadata": {
    "collapsed": true
   },
   "outputs": [],
   "source": []
  },
  {
   "cell_type": "code",
   "execution_count": 41,
   "metadata": {},
   "outputs": [
    {
     "name": "stdout",
     "output_type": "stream",
     "text": [
      "{'pageId': {'vals': []}, 'widgets': {'vals': []}}\n"
     ]
    }
   ],
   "source": [
    "    import json\n",
    "\n",
    "    finaJson = \"{}\"\n",
    "\n",
    "    tempData = json.loads(finaJson)\n",
    "    if 'pageId' not in tempData:\n",
    "        tempData['pageId'] = dict()\n",
    "        tempData['pageId']['vals'] = list()\n",
    "        #data['pageId']['vals'] = list()\n",
    "    if 'widgets' not in tempData:\n",
    "        tempData['widgets'] = dict()\n",
    "        tempData['widgets']['vals'] = list()\n",
    "          \n",
    "        \n",
    "    print(tempData)"
   ]
  },
  {
   "cell_type": "code",
   "execution_count": null,
   "metadata": {
    "collapsed": true
   },
   "outputs": [],
   "source": []
  },
  {
   "cell_type": "code",
   "execution_count": null,
   "metadata": {},
   "outputs": [],
   "source": []
  },
  {
   "cell_type": "code",
   "execution_count": null,
   "metadata": {
    "collapsed": true
   },
   "outputs": [],
   "source": []
  },
  {
   "cell_type": "code",
   "execution_count": null,
   "metadata": {
    "collapsed": true
   },
   "outputs": [],
   "source": []
  },
  {
   "cell_type": "code",
   "execution_count": null,
   "metadata": {
    "collapsed": true
   },
   "outputs": [],
   "source": []
  },
  {
   "cell_type": "code",
   "execution_count": null,
   "metadata": {
    "collapsed": true
   },
   "outputs": [],
   "source": []
  }
 ],
 "metadata": {
  "kernelspec": {
   "display_name": "Python 3",
   "language": "python",
   "name": "python3"
  },
  "language_info": {
   "codemirror_mode": {
    "name": "ipython",
    "version": 3
   },
   "file_extension": ".py",
   "mimetype": "text/x-python",
   "name": "python",
   "nbconvert_exporter": "python",
   "pygments_lexer": "ipython3",
   "version": "3.6.3"
  }
 },
 "nbformat": 4,
 "nbformat_minor": 2
}
