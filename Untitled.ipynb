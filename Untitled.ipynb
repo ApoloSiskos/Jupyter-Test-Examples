{
 "cells": [
  {
   "cell_type": "code",
   "execution_count": 1,
   "metadata": {
    "collapsed": true
   },
   "outputs": [],
   "source": [
    "import json\n",
    "\n",
    "\n",
    "jsonS = '[{\"id\": 13956,\"name\": \"AAAA\",\"level\": null,\"random\": \"{\\\"id\\\": 1212, \\\"name\\\": \\\"BBBB\\\",\\\"level\\\": null}\"}]'\n",
    "\n",
    "json1 = '[{\"id\": 13956, \"name\": \"AAAA\",\"level\": null}]'\n",
    "json2 = '[{\\\"id\\\": 1212, \\\"name\\\": \\\"BBBB\\\",\\\"level\\\": null}]'\n",
    "\n",
    "#json.dumps(json.loads(json2))\n",
    "#json.dumps(json.loads(jsonS))\n",
    "\n",
    "#Print\n",
    "#json.dumps(json.loads(json.dumps(jsonS)))\n"
   ]
  },
  {
   "cell_type": "code",
   "execution_count": 4,
   "metadata": {
    "collapsed": true
   },
   "outputs": [],
   "source": [
    "myJson = '[{\"id\":11111,\"name\":\"AAAA\",\"level\":null},{\"id\":22222,\"name\":\"BBBB\",\"level\":null},{\"id\":33333,\"name\":\"CCCC\",\"level\":null},{\"id\":44444,\"name\":\"DDDD\",\"level\":null},{\"id\":55555,\"name\":\"EEEE\",\"level\":null},{\"id\":66666,\"name\":\"FFFF\",\"level\":null}]'\n",
    "\n",
    "myJson  = json.loads(myJson)\n",
    "                 \n",
    "   \n",
    "i = 0\n",
    "while i < len(myJson):\n",
    "    if(myJson[i]['name'] == 'EEEE'):\n",
    "        myJson.pop(i)\n",
    "    if(myJson[i]['name'] == 'AAAA'):\n",
    "        myJson.pop(i)\n",
    "        i = i+1\n",
    "    if(myJson[i]['name'] == 'CCCC'):\n",
    "        myJson.pop(i)\n",
    "        i = i+1\n",
    "    else:\n",
    "        i += 1"
   ]
  },
  {
   "cell_type": "code",
   "execution_count": 5,
   "metadata": {},
   "outputs": [
    {
     "name": "stdout",
     "output_type": "stream",
     "text": [
      "[{'id': 22222, 'name': 'BBBB', 'level': None}, {'id': 44444, 'name': 'DDDD', 'level': None}, {'id': 66666, 'name': 'FFFF', 'level': None}]\n"
     ]
    }
   ],
   "source": [
    "print(myJson)"
   ]
  },
  {
   "cell_type": "code",
   "execution_count": null,
   "metadata": {
    "collapsed": true
   },
   "outputs": [],
   "source": []
  },
  {
   "cell_type": "code",
   "execution_count": 6,
   "metadata": {},
   "outputs": [
    {
     "name": "stdout",
     "output_type": "stream",
     "text": [
      "[{'id': 11111, 'name': 'AAAA', 'level': None}, {'id': 33333, 'name': 'CCCC', 'level': None}, {'id': 44444, 'name': 'DDDD', 'level': None}, {'id': 55555, 'name': 'EEEE', 'level': None}, {'id': 66666, 'name': 'FFFF', 'level': None}]\n"
     ]
    }
   ],
   "source": [
    "myJson = '[{\"id\":11111,\"name\":\"AAAA\",\"level\":null},{\"id\":22222,\"name\":\"BBBB\",\"level\":null},{\"id\":33333,\"name\":\"CCCC\",\"level\":null},{\"id\":44444,\"name\":\"DDDD\",\"level\":null},{\"id\":55555,\"name\":\"EEEE\",\"level\":null},{\"id\":66666,\"name\":\"FFFF\",\"level\":null}]'\n",
    "\n",
    "myJson = json.loads(myJson)\n",
    "\n",
    "y = 0\n",
    "for i in myJson:\n",
    "    #print(i[\"name\"])\n",
    "    #print(y)\n",
    "    if \"BBBB\" in i[\"name\"]:\n",
    "        myJson.pop(y)\n",
    "        y = y-1\n",
    "    y = y+1\n",
    "    \n",
    "\n",
    "print(myJson)\n"
   ]
  },
  {
   "cell_type": "code",
   "execution_count": null,
   "metadata": {
    "collapsed": true
   },
   "outputs": [],
   "source": []
  },
  {
   "cell_type": "code",
   "execution_count": null,
   "metadata": {
    "collapsed": true
   },
   "outputs": [],
   "source": []
  }
 ],
 "metadata": {
  "kernelspec": {
   "display_name": "Python 3",
   "language": "python",
   "name": "python3"
  },
  "language_info": {
   "codemirror_mode": {
    "name": "ipython",
    "version": 3
   },
   "file_extension": ".py",
   "mimetype": "text/x-python",
   "name": "python",
   "nbconvert_exporter": "python",
   "pygments_lexer": "ipython3",
   "version": "3.6.3"
  }
 },
 "nbformat": 4,
 "nbformat_minor": 2
}
